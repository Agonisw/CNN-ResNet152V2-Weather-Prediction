{
  "cells": [
    {
      "cell_type": "markdown",
      "metadata": {
        "id": "9rMoHxgyIGPU"
      },
      "source": [
        "**Team:**\n",
        "\n",
        "  MaoLin Wei   21217009\n",
        "\n",
        "  YongHeng Yin 21147469\n",
        "\n",
        "  GuiYang Fan  21147418\n",
        "\n",
        "\n",
        "Code can execute to the end without an error.\n",
        "\n",
        "\n",
        "\n",
        "**Dataset from:**\n",
        "\n",
        "  https://www.kaggle.com/datasets/pratik2901/multiclass-weather-dataset\n",
        "\n",
        "**Third party code:**\n",
        "\n",
        "https://www.kaggle.com/code/utkarshsaxenadn/weather-classification-resnet-acc-91\n",
        "\n",
        "https://www.kaggle.com/code/iganarendra/using-alexnet-via-tensorflow\n",
        "\n",
        "https://www.tensorflow.org/api_docs/python/tf/keras/preprocessing/image/ImageDataGenerator\n",
        "\n",
        "https://www.tensorflow.org/api_docs/python/tf/keras/applications\n",
        "\n",
        "https://blog.csdn.net/u010397980/article/details/88088025\n",
        "\n",
        "https://blog.csdn.net/liuz_notes/article/details/104293440?spm=1001.2101.3001.6661.1&utm_medium=distribute.pc_relevant_t0.none-task-blog-2%7Edefault%7ECTRLIST%7ERate-1-104293440-blog-88088025.pc_relevant_multi_platform_whitelistv4&depth_1-utm_source=distribute.pc_relevant_t0.none-task-blog-2%7Edefault%7ECTRLIST%7ERate-1-104293440-blog-88088025.pc_relevant_multi_platform_whitelistv4&utm_relevant_index=1\n",
        "\n",
        "https://blog.csdn.net/liujingwei8610/article/details/123470276\n",
        "\n",
        "https://mtyjkh.blog.csdn.net/article/details/117587326"
      ],
      "id": "9rMoHxgyIGPU"
    },
    {
      "cell_type": "markdown",
      "metadata": {
        "id": "FqcJ0WU25-lg"
      },
      "source": [
        "# 1.Import Data"
      ],
      "id": "FqcJ0WU25-lg"
    },
    {
      "cell_type": "code",
      "execution_count": 1,
      "metadata": {
        "id": "4O6U123OxWEx",
        "colab": {
          "base_uri": "https://localhost:8080/"
        },
        "outputId": "e49e8896-bf5c-4c35-c4b2-7c1bf4d44066"
      },
      "outputs": [
        {
          "output_type": "stream",
          "name": "stdout",
          "text": [
            "Mounted at /content/drive\n",
            "/content/drive/My Drive/Colab Notebooks/Dataset\n",
            " data7.csv    eye\t       'Multi-class Weather Dataset'   SH600519.csv\n",
            " esport.txt  'kaggle_Dog&Cat'   resnet.h5\n"
          ]
        }
      ],
      "source": [
        "# Import data, data was stored in \"/content/drive/My Drive/Colab Notebooks/Dataset\", name as \"./Multi-class Weather Dataset\"\n",
        "from google.colab import drive\n",
        "drive.mount('/content/drive')\n",
        "%cd /content/drive/My Drive/Colab Notebooks/Dataset\n",
        "# Lists all files and folders in the path\n",
        "!ls"
      ],
      "id": "4O6U123OxWEx"
    },
    {
      "cell_type": "code",
      "execution_count": 2,
      "metadata": {
        "id": "p3nXrWY1yAOq"
      },
      "outputs": [],
      "source": [
        "dataset = \"./Multi-class Weather Dataset\""
      ],
      "id": "p3nXrWY1yAOq"
    },
    {
      "cell_type": "code",
      "execution_count": 3,
      "metadata": {
        "id": "h3f_zQagDI7y"
      },
      "outputs": [],
      "source": [
        "# Some of the packages that will be used later\n",
        "import tensorflow as tf\n",
        "import matplotlib.pyplot as plt\n",
        "import numpy as np\n",
        "import seaborn as sns"
      ],
      "id": "h3f_zQagDI7y"
    },
    {
      "cell_type": "markdown",
      "metadata": {
        "id": "gpu8d-6y57uC"
      },
      "source": [
        "# 2.Data Pre-processing"
      ],
      "id": "gpu8d-6y57uC"
    },
    {
      "cell_type": "code",
      "execution_count": 4,
      "metadata": {
        "id": "vfgdzOI_emIH",
        "colab": {
          "base_uri": "https://localhost:8080/"
        },
        "outputId": "5a557358-a07e-45c1-a22d-3e3a06b61bc5"
      },
      "outputs": [
        {
          "output_type": "stream",
          "name": "stdout",
          "text": [
            "['Cloudy', 'Rain', 'Shine', 'Sunrise'] 4\n"
          ]
        }
      ],
      "source": [
        "# Classify the class of dataset\n",
        "import os\n",
        "class_names = sorted(os.listdir(dataset))\n",
        "num_classes = len(class_names)\n",
        "print(class_names,num_classes)"
      ],
      "id": "vfgdzOI_emIH"
    },
    {
      "cell_type": "code",
      "execution_count": 5,
      "metadata": {
        "id": "I1oPA7Bkf8SQ",
        "colab": {
          "base_uri": "https://localhost:8080/"
        },
        "outputId": "29db6125-a3cc-4dfb-924e-03da16ebb3dd"
      },
      "outputs": [
        {
          "output_type": "execute_result",
          "data": {
            "text/plain": [
              "[300, 215, 253, 357]"
            ]
          },
          "metadata": {},
          "execution_count": 5
        }
      ],
      "source": [
        "# Check the number of different class\n",
        "class_dis = [len(os.listdir(dataset + \"/\" + name)) for name in class_names]\n",
        "class_dis"
      ],
      "id": "I1oPA7Bkf8SQ"
    },
    {
      "cell_type": "code",
      "execution_count": 6,
      "metadata": {
        "id": "_Za4efyc4qgj",
        "colab": {
          "base_uri": "https://localhost:8080/",
          "height": 173
        },
        "outputId": "8d3f90e3-36c8-48fe-ebf1-5040cc1c2351"
      },
      "outputs": [
        {
          "output_type": "display_data",
          "data": {
            "text/plain": [
              "<Figure size 288x144 with 1 Axes>"
            ],
            "image/png": "[encoded data removed]"
          },
          "metadata": {
            "needs_background": "light"
          }
        }
      ],
      "source": [
        "# Visualisation of the key attributes\n",
        "# 1.Bar chart\n",
        "plt.figure(figsize=(4,2)) # Adjust size\n",
        "sns.barplot(\n",
        "    x=class_names, \n",
        "    y=class_dis\n",
        ")\n",
        "plt.axhline(np.mean(class_dis), alpha=1, color='k', label=\"Mean\") # alpha: the thickness of the line\n",
        "plt.title(\"Class Distribution\")\n",
        "plt.legend() # Displays the content of the label\n",
        "plt.show()"
      ],
      "id": "_Za4efyc4qgj"
    },
    {
      "cell_type": "code",
      "execution_count": 7,
      "metadata": {
        "id": "EcHBeN1-Cw2L",
        "colab": {
          "base_uri": "https://localhost:8080/",
          "height": 542
        },
        "outputId": "91e4bb4b-ef82-4eac-96f6-534612295eb7"
      },
      "outputs": [
        {
          "output_type": "display_data",
          "data": {
            "text/html": [
              "<html>\n",
              "<head><meta charset=\"utf-8\" /></head>\n",
              "<body>\n",
              "    <div>            <script src=\"https://cdnjs.cloudflare.com/ajax/libs/mathjax/2.7.5/MathJax.js?config=TeX-AMS-MML_SVG\"></script><script type=\"text/javascript\">if (window.MathJax) {MathJax.Hub.Config({SVG: {font: \"STIX-Web\"}});}</script>                <script type=\"text/javascript\">window.PlotlyConfig = {MathJaxConfig: 'local'};</script>\n",
              "        <script src=\"https://cdn.plot.ly/plotly-2.8.3.min.js\"></script>                <div id=\"98563ccc-318a-428e-aef7-ac6b08afbf80\" class=\"plotly-graph-div\" style=\"height:525px; width:100%;\"></div>            <script type=\"text/javascript\">                                    window.PLOTLYENV=window.PLOTLYENV || {};                                    if (document.getElementById(\"98563ccc-318a-428e-aef7-ac6b08afbf80\")) {                    Plotly.newPlot(                        \"98563ccc-318a-428e-aef7-ac6b08afbf80\",                        [{\"domain\":{\"x\":[0.0,1.0],\"y\":[0.0,1.0]},\"hovertemplate\":\"label=%{label}<br>value=%{value}<extra></extra>\",\"labels\":[\"Cloudy\",\"Rain\",\"Shine\",\"Sunrise\"],\"legendgroup\":\"\",\"name\":\"\",\"showlegend\":true,\"values\":[300,215,253,357],\"type\":\"pie\",\"textinfo\":\"percent+label\",\"textposition\":\"inside\"}],                        {\"template\":{\"data\":{\"bar\":[{\"error_x\":{\"color\":\"#2a3f5f\"},\"error_y\":{\"color\":\"#2a3f5f\"},\"marker\":{\"line\":{\"color\":\"#E5ECF6\",\"width\":0.5},\"pattern\":{\"fillmode\":\"overlay\",\"size\":10,\"solidity\":0.2}},\"type\":\"bar\"}],\"barpolar\":[{\"marker\":{\"line\":{\"color\":\"#E5ECF6\",\"width\":0.5},\"pattern\":{\"fillmode\":\"overlay\",\"size\":10,\"solidity\":0.2}},\"type\":\"barpolar\"}],\"carpet\":[{\"aaxis\":{\"endlinecolor\":\"#2a3f5f\",\"gridcolor\":\"white\",\"linecolor\":\"white\",\"minorgridcolor\":\"white\",\"startlinecolor\":\"#2a3f5f\"},\"baxis\":{\"endlinecolor\":\"#2a3f5f\",\"gridcolor\":\"white\",\"linecolor\":\"white\",\"minorgridcolor\":\"white\",\"startlinecolor\":\"#2a3f5f\"},\"type\":\"carpet\"}],\"choropleth\":[{\"colorbar\":{\"outlinewidth\":0,\"ticks\":\"\"},\"type\":\"choropleth\"}],\"contour\":[{\"colorbar\":{\"outlinewidth\":0,\"ticks\":\"\"},\"colorscale\":[[0.0,\"#0d0887\"],[0.1111111111111111,\"#46039f\"],[0.2222222222222222,\"#7201a8\"],[0.3333333333333333,\"#9c179e\"],[0.4444444444444444,\"#bd3786\"],[0.5555555555555556,\"#d8576b\"],[0.6666666666666666,\"#ed7953\"],[0.7777777777777778,\"#fb9f3a\"],[0.8888888888888888,\"#fdca26\"],[1.0,\"#f0f921\"]],\"type\":\"contour\"}],\"contourcarpet\":[{\"colorbar\":{\"outlinewidth\":0,\"ticks\":\"\"},\"type\":\"contourcarpet\"}],\"heatmap\":[{\"colorbar\":{\"outlinewidth\":0,\"ticks\":\"\"},\"colorscale\":[[0.0,\"#0d0887\"],[0.1111111111111111,\"#46039f\"],[0.2222222222222222,\"#7201a8\"],[0.3333333333333333,\"#9c179e\"],[0.4444444444444444,\"#bd3786\"],[0.5555555555555556,\"#d8576b\"],[0.6666666666666666,\"#ed7953\"],[0.7777777777777778,\"#fb9f3a\"],[0.8888888888888888,\"#fdca26\"],[1.0,\"#f0f921\"]],\"type\":\"heatmap\"}],\"heatmapgl\":[{\"colorbar\":{\"outlinewidth\":0,\"ticks\":\"\"},\"colorscale\":[[0.0,\"#0d0887\"],[0.1111111111111111,\"#46039f\"],[0.2222222222222222,\"#7201a8\"],[0.3333333333333333,\"#9c179e\"],[0.4444444444444444,\"#bd3786\"],[0.5555555555555556,\"#d8576b\"],[0.6666666666666666,\"#ed7953\"],[0.7777777777777778,\"#fb9f3a\"],[0.8888888888888888,\"#fdca26\"],[1.0,\"#f0f921\"]],\"type\":\"heatmapgl\"}],\"histogram\":[{\"marker\":{\"pattern\":{\"fillmode\":\"overlay\",\"size\":10,\"solidity\":0.2}},\"type\":\"histogram\"}],\"histogram2d\":[{\"colorbar\":{\"outlinewidth\":0,\"ticks\":\"\"},\"colorscale\":[[0.0,\"#0d0887\"],[0.1111111111111111,\"#46039f\"],[0.2222222222222222,\"#7201a8\"],[0.3333333333333333,\"#9c179e\"],[0.4444444444444444,\"#bd3786\"],[0.5555555555555556,\"#d8576b\"],[0.6666666666666666,\"#ed7953\"],[0.7777777777777778,\"#fb9f3a\"],[0.8888888888888888,\"#fdca26\"],[1.0,\"#f0f921\"]],\"type\":\"histogram2d\"}],\"histogram2dcontour\":[{\"colorbar\":{\"outlinewidth\":0,\"ticks\":\"\"},\"colorscale\":[[0.0,\"#0d0887\"],[0.1111111111111111,\"#46039f\"],[0.2222222222222222,\"#7201a8\"],[0.3333333333333333,\"#9c179e\"],[0.4444444444444444,\"#bd3786\"],[0.5555555555555556,\"#d8576b\"],[0.6666666666666666,\"#ed7953\"],[0.7777777777777778,\"#fb9f3a\"],[0.8888888888888888,\"#fdca26\"],[1.0,\"#f0f921\"]],\"type\":\"histogram2dcontour\"}],\"mesh3d\":[{\"colorbar\":{\"outlinewidth\":0,\"ticks\":\"\"},\"type\":\"mesh3d\"}],\"parcoords\":[{\"line\":{\"colorbar\":{\"outlinewidth\":0,\"ticks\":\"\"}},\"type\":\"parcoords\"}],\"pie\":[{\"automargin\":true,\"type\":\"pie\"}],\"scatter\":[{\"marker\":{\"colorbar\":{\"outlinewidth\":0,\"ticks\":\"\"}},\"type\":\"scatter\"}],\"scatter3d\":[{\"line\":{\"colorbar\":{\"outlinewidth\":0,\"ticks\":\"\"}},\"marker\":{\"colorbar\":{\"outlinewidth\":0,\"ticks\":\"\"}},\"type\":\"scatter3d\"}],\"scattercarpet\":[{\"marker\":{\"colorbar\":{\"outlinewidth\":0,\"ticks\":\"\"}},\"type\":\"scattercarpet\"}],\"scattergeo\":[{\"marker\":{\"colorbar\":{\"outlinewidth\":0,\"ticks\":\"\"}},\"type\":\"scattergeo\"}],\"scattergl\":[{\"marker\":{\"colorbar\":{\"outlinewidth\":0,\"ticks\":\"\"}},\"type\":\"scattergl\"}],\"scattermapbox\":[{\"marker\":{\"colorbar\":{\"outlinewidth\":0,\"ticks\":\"\"}},\"type\":\"scattermapbox\"}],\"scatterpolar\":[{\"marker\":{\"colorbar\":{\"outlinewidth\":0,\"ticks\":\"\"}},\"type\":\"scatterpolar\"}],\"scatterpolargl\":[{\"marker\":{\"colorbar\":{\"outlinewidth\":0,\"ticks\":\"\"}},\"type\":\"scatterpolargl\"}],\"scatterternary\":[{\"marker\":{\"colorbar\":{\"outlinewidth\":0,\"ticks\":\"\"}},\"type\":\"scatterternary\"}],\"surface\":[{\"colorbar\":{\"outlinewidth\":0,\"ticks\":\"\"},\"colorscale\":[[0.0,\"#0d0887\"],[0.1111111111111111,\"#46039f\"],[0.2222222222222222,\"#7201a8\"],[0.3333333333333333,\"#9c179e\"],[0.4444444444444444,\"#bd3786\"],[0.5555555555555556,\"#d8576b\"],[0.6666666666666666,\"#ed7953\"],[0.7777777777777778,\"#fb9f3a\"],[0.8888888888888888,\"#fdca26\"],[1.0,\"#f0f921\"]],\"type\":\"surface\"}],\"table\":[{\"cells\":{\"fill\":{\"color\":\"#EBF0F8\"},\"line\":{\"color\":\"white\"}},\"header\":{\"fill\":{\"color\":\"#C8D4E3\"},\"line\":{\"color\":\"white\"}},\"type\":\"table\"}]},\"layout\":{\"annotationdefaults\":{\"arrowcolor\":\"#2a3f5f\",\"arrowhead\":0,\"arrowwidth\":1},\"autotypenumbers\":\"strict\",\"coloraxis\":{\"colorbar\":{\"outlinewidth\":0,\"ticks\":\"\"}},\"colorscale\":{\"diverging\":[[0,\"#8e0152\"],[0.1,\"#c51b7d\"],[0.2,\"#de77ae\"],[0.3,\"#f1b6da\"],[0.4,\"#fde0ef\"],[0.5,\"#f7f7f7\"],[0.6,\"#e6f5d0\"],[0.7,\"#b8e186\"],[0.8,\"#7fbc41\"],[0.9,\"#4d9221\"],[1,\"#276419\"]],\"sequential\":[[0.0,\"#0d0887\"],[0.1111111111111111,\"#46039f\"],[0.2222222222222222,\"#7201a8\"],[0.3333333333333333,\"#9c179e\"],[0.4444444444444444,\"#bd3786\"],[0.5555555555555556,\"#d8576b\"],[0.6666666666666666,\"#ed7953\"],[0.7777777777777778,\"#fb9f3a\"],[0.8888888888888888,\"#fdca26\"],[1.0,\"#f0f921\"]],\"sequentialminus\":[[0.0,\"#0d0887\"],[0.1111111111111111,\"#46039f\"],[0.2222222222222222,\"#7201a8\"],[0.3333333333333333,\"#9c179e\"],[0.4444444444444444,\"#bd3786\"],[0.5555555555555556,\"#d8576b\"],[0.6666666666666666,\"#ed7953\"],[0.7777777777777778,\"#fb9f3a\"],[0.8888888888888888,\"#fdca26\"],[1.0,\"#f0f921\"]]},\"colorway\":[\"#636efa\",\"#EF553B\",\"#00cc96\",\"#ab63fa\",\"#FFA15A\",\"#19d3f3\",\"#FF6692\",\"#B6E880\",\"#FF97FF\",\"#FECB52\"],\"font\":{\"color\":\"#2a3f5f\"},\"geo\":{\"bgcolor\":\"white\",\"lakecolor\":\"white\",\"landcolor\":\"#E5ECF6\",\"showlakes\":true,\"showland\":true,\"subunitcolor\":\"white\"},\"hoverlabel\":{\"align\":\"left\"},\"hovermode\":\"closest\",\"mapbox\":{\"style\":\"light\"},\"paper_bgcolor\":\"white\",\"plot_bgcolor\":\"#E5ECF6\",\"polar\":{\"angularaxis\":{\"gridcolor\":\"white\",\"linecolor\":\"white\",\"ticks\":\"\"},\"bgcolor\":\"#E5ECF6\",\"radialaxis\":{\"gridcolor\":\"white\",\"linecolor\":\"white\",\"ticks\":\"\"}},\"scene\":{\"xaxis\":{\"backgroundcolor\":\"#E5ECF6\",\"gridcolor\":\"white\",\"gridwidth\":2,\"linecolor\":\"white\",\"showbackground\":true,\"ticks\":\"\",\"zerolinecolor\":\"white\"},\"yaxis\":{\"backgroundcolor\":\"#E5ECF6\",\"gridcolor\":\"white\",\"gridwidth\":2,\"linecolor\":\"white\",\"showbackground\":true,\"ticks\":\"\",\"zerolinecolor\":\"white\"},\"zaxis\":{\"backgroundcolor\":\"#E5ECF6\",\"gridcolor\":\"white\",\"gridwidth\":2,\"linecolor\":\"white\",\"showbackground\":true,\"ticks\":\"\",\"zerolinecolor\":\"white\"}},\"shapedefaults\":{\"line\":{\"color\":\"#2a3f5f\"}},\"ternary\":{\"aaxis\":{\"gridcolor\":\"white\",\"linecolor\":\"white\",\"ticks\":\"\"},\"baxis\":{\"gridcolor\":\"white\",\"linecolor\":\"white\",\"ticks\":\"\"},\"bgcolor\":\"#E5ECF6\",\"caxis\":{\"gridcolor\":\"white\",\"linecolor\":\"white\",\"ticks\":\"\"}},\"title\":{\"x\":0.05},\"xaxis\":{\"automargin\":true,\"gridcolor\":\"white\",\"linecolor\":\"white\",\"ticks\":\"\",\"title\":{\"standoff\":15},\"zerolinecolor\":\"white\",\"zerolinewidth\":2},\"yaxis\":{\"automargin\":true,\"gridcolor\":\"white\",\"linecolor\":\"white\",\"ticks\":\"\",\"title\":{\"standoff\":15},\"zerolinecolor\":\"white\",\"zerolinewidth\":2}}},\"legend\":{\"tracegroupgap\":0},\"title\":{\"text\":\"Class Distribution\",\"x\":0.5},\"piecolorway\":[\"rgb(247, 254, 174)\",\"rgb(183, 230, 165)\",\"rgb(124, 203, 162)\",\"rgb(70, 174, 160)\",\"rgb(8, 144, 153)\",\"rgb(0, 113, 139)\",\"rgb(4, 82, 117)\"]},                        {\"responsive\": true}                    ).then(function(){\n",
              "                            \n",
              "var gd = document.getElementById('98563ccc-318a-428e-aef7-ac6b08afbf80');\n",
              "var x = new MutationObserver(function (mutations, observer) {{\n",
              "        var display = window.getComputedStyle(gd).display;\n",
              "        if (!display || display === 'none') {{\n",
              "            console.log([gd, 'removed!']);\n",
              "            Plotly.purge(gd);\n",
              "            observer.disconnect();\n",
              "        }}\n",
              "}});\n",
              "\n",
              "// Listen for the removal of the full notebook cells\n",
              "var notebookContainer = gd.closest('#notebook-container');\n",
              "if (notebookContainer) {{\n",
              "    x.observe(notebookContainer, {childList: true});\n",
              "}}\n",
              "\n",
              "// Listen for the clearing of the current output cell\n",
              "var outputEl = gd.closest('.output');\n",
              "if (outputEl) {{\n",
              "    x.observe(outputEl, {childList: true});\n",
              "}}\n",
              "\n",
              "                        })                };                            </script>        </div>\n",
              "</body>\n",
              "</html>"
            ]
          },
          "metadata": {}
        }
      ],
      "source": [
        "# 2.Pie chart\n",
        "import plotly.express as px\n",
        "fig = px.pie(names=class_names, values=class_dis, title=\"Class Distribution\",color_discrete_sequence=px.colors.sequential.Bluyl)\n",
        "fig.update_traces(textposition='inside', textinfo='percent+label') # Display percentages and labels directly in each section of the pie chart\n",
        "fig.update_layout({'title':{'x':0.5}}) # Center the title\n",
        "fig.show()"
      ],
      "id": "EcHBeN1-Cw2L"
    },
    {
      "cell_type": "code",
      "execution_count": 8,
      "metadata": {
        "id": "CqwExPnF4A4E",
        "colab": {
          "base_uri": "https://localhost:8080/",
          "height": 539
        },
        "outputId": "619910ea-e28d-49f7-8625-3881c013c5c4"
      },
      "outputs": [
        {
          "output_type": "display_data",
          "data": {
            "text/plain": [
              "<Figure size 432x288 with 1 Axes>"
            ],
            "image/png": "[encoded data removed]"
          },
          "metadata": {
            "needs_background": "light"
          }
        },
        {
          "output_type": "stream",
          "name": "stdout",
          "text": [
            "(1, 400, 600, 3)\n"
          ]
        },
        {
          "output_type": "display_data",
          "data": {
            "text/plain": [
              "<Figure size 432x288 with 9 Axes>"
            ],
            "image/png": "[encoded data removed]"
          },
          "metadata": {
            "needs_background": "light"
          }
        }
      ],
      "source": [
        "from __future__ import print_function\n",
        "from skimage.io import imread\n",
        "from skimage import exposure, color\n",
        "from skimage.transform import resize\n",
        "from keras_preprocessing.image import ImageDataGenerator\n",
        "\n",
        "# Pre-process\n",
        "def imgGen(img, zca=False, rotation=0., w_shift=0., h_shift=0., shear=0., zoom=0., h_flip=False, v_flip=False,  preprocess_fcn=None, batch_size=9):\n",
        "    datagen = ImageDataGenerator(\n",
        "            zca_whitening=zca,\n",
        "            rotation_range=rotation,\n",
        "            width_shift_range=w_shift,\n",
        "            height_shift_range=h_shift,\n",
        "            shear_range=shear,\n",
        "            zoom_range=zoom,\n",
        "            fill_mode='nearest',\n",
        "            horizontal_flip=h_flip,\n",
        "            vertical_flip=v_flip,\n",
        "            preprocessing_function=preprocess_fcn,\n",
        "          )\n",
        "    \n",
        "    datagen.fit(img)\n",
        "\n",
        "    i=0\n",
        "    for img_batch in datagen.flow(img, batch_size=9, shuffle=False):\n",
        "        for img in img_batch:\n",
        "            plt.subplot(330 + 1 + i)\n",
        "            plt.imshow(img)\n",
        "            i=i+1    \n",
        "        if i >= batch_size:\n",
        "            break\n",
        "    plt.show()\n",
        "\n",
        "# Visualize the original image\n",
        "img = imread(\"./Multi-class Weather Dataset/Cloudy/cloudy1.jpg\")\n",
        "plt.imshow(img)\n",
        "plt.show()\n",
        "\n",
        "# Reshape raw images, ready for data enhancement\n",
        "img = img.astype('float32')\n",
        "img /= 255\n",
        "h_dim = np.shape(img)[0]\n",
        "w_dim = np.shape(img)[1]\n",
        "num_channel = np.shape(img)[2]\n",
        "img = img.reshape(1, h_dim, w_dim, num_channel)\n",
        "print(img.shape)\n",
        "\n",
        "# Data enhancement\n",
        "imgGen(img, rotation=30, h_shift=0.5)\n",
        "\n"
      ],
      "id": "CqwExPnF4A4E"
    },
    {
      "cell_type": "code",
      "execution_count": 9,
      "metadata": {
        "id": "E6GirxLZH9Zn"
      },
      "outputs": [],
      "source": [
        "img_height,img_width = 90,90 # Setup the image size as 90,90"
      ],
      "id": "E6GirxLZH9Zn"
    },
    {
      "cell_type": "code",
      "execution_count": 10,
      "metadata": {
        "id": "78313df2",
        "colab": {
          "base_uri": "https://localhost:8080/"
        },
        "outputId": "62cbfd3b-3c08-4b96-b334-2e409ee7e11e"
      },
      "outputs": [
        {
          "output_type": "stream",
          "name": "stdout",
          "text": [
            "Found 901 images belonging to 4 classes.\n",
            "Found 224 images belonging to 4 classes.\n",
            "Found 224 images belonging to 4 classes.\n"
          ]
        }
      ],
      "source": [
        "from keras_preprocessing.image import ImageDataGenerator\n",
        "datagen = ImageDataGenerator( # Pre-process the image, including width,height,size...\n",
        "    rescale = 1.0/255.,# Scale the dimensions\n",
        "    rotation_range=90,# The image is rotated randomly by a certain angle, and the maximum rotation angle is the set value\n",
        "    width_shift_range=0.2,# The image pans horizontally randomly, and the maximum pan value is the set value. If the value is less than 1 float value, it can be considered to be proportional translation, if greater than 1, the translation is pixels; If the value is integer, the translation is also pixels; Assuming a pixel of 2.0, the movement range is between [-1,1].\n",
        "    height_shift_range=0.2,# Image randomly pans vertically, same as above\n",
        "    shear_range=0.2,# Images are randomly trimmed\n",
        "    zoom_range=0.3,# Images are randomly zoomed\n",
        "    validation_split=0.2, # Optional float between 0 and 1, fraction of data to reserve for validation.\n",
        "    vertical_flip=True)# The image is randomly flipped vertically\n",
        "train_generator = datagen.flow_from_directory( # Divide the dataset into tarin and valid\n",
        "    dataset,\n",
        "    batch_size=16, # Size of the batches of data. Default: 32. If None, the data will not be batched (the dataset will yield individual samples).\n",
        "    shuffle=True, # Whether to shuffle the data. Default: True.\n",
        "    class_mode='categorical', # one of \"binary\", \"categorical\", \"input\", \"multi_output\", \"raw\", sparse\" or None. Default: \"categorical\". \"categorical\": 2D numpy array of one-hot encoded labels. Supports multi-label output.\n",
        "    subset='training', # Subset of the data to return. One of \"training\", \"validation\" or \"both\". Only used if validation_split is set. When subset=\"both\", the utility returns a tuple of two datasets (the training and validation datasets respectively).\n",
        "    target_size=(img_height,img_width))\n",
        "valid_generator = datagen.flow_from_directory(\n",
        "    dataset, \n",
        "    batch_size=16,\n",
        "    shuffle=True,\n",
        "    class_mode='categorical',\n",
        "    subset='validation',\n",
        "    target_size=(img_height,img_width))\n",
        "test_generator = datagen.flow_from_directory(\n",
        "    dataset, \n",
        "    batch_size=16,\n",
        "    shuffle=True,\n",
        "    class_mode='categorical',\n",
        "    subset='validation',\n",
        "    target_size=(img_height,img_width))"
      ],
      "id": "78313df2"
    },
    {
      "cell_type": "markdown",
      "metadata": {
        "id": "npt82eiQNVTl"
      },
      "source": [
        "# 3.ResNet152V2 Model"
      ],
      "id": "npt82eiQNVTl"
    },
    {
      "cell_type": "code",
      "execution_count": 11,
      "metadata": {
        "id": "uOmizxCJOf4u"
      },
      "outputs": [],
      "source": [
        "# Matrix contents required when compile\n",
        "METRICS = [\n",
        "        'accuracy',\n",
        "        tf.keras.metrics.Precision(),\n",
        "        tf.keras.metrics.Recall(),\n",
        "        tf.keras.metrics.AUC()\n",
        "    ]\n",
        "\n",
        "# Create a function that can generate the images\n",
        "def acc_loss(history): \n",
        "  train_acc = history.history['accuracy'] # import the argument\n",
        "  train_loss = history.history['loss']\n",
        "  train_precision = history.history['precision']\n",
        "  train_recall = history.history['recall']\n",
        "  train_auc = history.history['auc']\n",
        "\n",
        "  val_acc = history.history['val_accuracy']\n",
        "  val_loss = history.history['val_loss']\n",
        "  val_precision = history.history['val_precision']\n",
        "  val_recall = history.history['val_recall']\n",
        "  val_auc = history.history['val_auc']\n",
        "\n",
        "  # 1.Loss and accuacy\n",
        "  fig1 = plt.figure(figsize=(10, 4)) \n",
        "  plt.subplot(1, 2, 1) # row,column,number\n",
        "  plt.plot(train_acc, label='Training')\n",
        "  plt.plot(val_acc, label='Validation')\n",
        "  plt.xlabel('Epochs')\n",
        "  plt.ylabel('Accuracy')\n",
        "  plt.legend()\n",
        "  \n",
        "  plt.subplot(1, 2, 2) \n",
        "  plt.plot(train_loss, label='Training')\n",
        "  plt.plot(val_loss, label='Validation')\n",
        "  plt.xlabel('Epochs')\n",
        "  plt.ylabel('Loss')\n",
        "  plt.legend()\n",
        "  plt.show() # Show that a graph contains 2 subgraphs\n",
        "\n",
        "  # 2.Precision, recall and AUC\n",
        "  fig2 = plt.figure(figsize=(15, 4)) \n",
        "  plt.subplot(1, 3, 1) \n",
        "  plt.plot(train_precision, label='Training')\n",
        "  plt.plot(val_precision, label='Validation')\n",
        "  plt.xlabel('Epochs')\n",
        "  plt.ylabel('Precision')\n",
        "  plt.legend()\n",
        "\n",
        "  plt.subplot(1, 3, 2) \n",
        "  plt.plot(train_recall, label='Training')\n",
        "  plt.plot(val_recall, label='Validation')\n",
        "  plt.xlabel('Epochs')\n",
        "  plt.ylabel('Recall')\n",
        "  plt.legend()\n",
        "\n",
        "  plt.subplot(1, 3, 3) \n",
        "  plt.plot(train_auc, label='Training')\n",
        "  plt.plot(val_auc, label='Validation')\n",
        "  plt.xlabel('Epochs')\n",
        "  plt.ylabel('AUC')\n",
        "  plt.legend()\n",
        "  plt.show() # Show that a graph contains 3 subgraphs\n",
        "\n",
        "# Create a function that can generate the confusion matrix and classification report\n",
        "from sklearn.metrics import confusion_matrix, classification_report\n",
        "from sklearn.metrics._plot.confusion_matrix import ConfusionMatrixDisplay\n",
        "def prediction(model): \n",
        "  probabilities = model.predict(valid_generator)\n",
        "  predictions = []\n",
        "  for prob in probabilities:\n",
        "    best_index = np.argmax(prob)\n",
        "    predictions.append(best_index)\n",
        "  labels = valid_generator.classes\n",
        "  # tn,fp,fn,tp = confusion_matrix(labels, predictions).ravel()\n",
        "  cm = confusion_matrix(labels, predictions) #[[tp, fp],[fn, tn]]\n",
        "  cr = classification_report(labels, predictions)\n",
        "  print(cr)\n",
        "  cm_dis = ConfusionMatrixDisplay(confusion_matrix=cm,display_labels=class_names).plot()"
      ],
      "id": "uOmizxCJOf4u"
    },
    {
      "cell_type": "markdown",
      "metadata": {
        "id": "dF3u2LarVMQC"
      },
      "source": [
        "## 3.1Original Model"
      ],
      "id": "dF3u2LarVMQC"
    },
    {
      "cell_type": "code",
      "execution_count": 12,
      "metadata": {
        "id": "U1qxzFvwpGqv",
        "colab": {
          "base_uri": "https://localhost:8080/"
        },
        "outputId": "17b2016d-e5fa-474a-c6d0-d5f8bd83eb07"
      },
      "outputs": [
        {
          "output_type": "stream",
          "name": "stdout",
          "text": [
            "Downloading data from https://storage.googleapis.com/tensorflow/keras-applications/resnet/resnet152v2_weights_tf_dim_ordering_tf_kernels_notop.h5\n",
            "234545216/234545216 [==============================] - 8s 0us/step\n"
          ]
        }
      ],
      "source": [
        "from tensorflow.keras.applications import ResNet152V2\n",
        "base_model = ResNet152V2(include_top=False, input_shape=(img_height,img_width,3)) # Choose the CNN structure ResNet152V2, and decide the input size of images\n",
        "base_model.trainable = False"
      ],
      "id": "U1qxzFvwpGqv"
    },
    {
      "cell_type": "code",
      "execution_count": 13,
      "metadata": {
        "id": "UO4pRtBXNUt2",
        "colab": {
          "base_uri": "https://localhost:8080/"
        },
        "outputId": "65497038-c4c5-44b7-ef05-85780017d904"
      },
      "outputs": [
        {
          "output_type": "stream",
          "name": "stdout",
          "text": [
            "Model: \"sequential\"\n",
            "_________________________________________________________________\n",
            " Layer (type)                Output Shape              Param #   \n",
            "=================================================================\n",
            " resnet152v2 (Functional)    (None, 3, 3, 2048)        58331648  \n",
            "                                                                 \n",
            " dropout (Dropout)           (None, 3, 3, 2048)        0         \n",
            "                                                                 \n",
            " flatten (Flatten)           (None, 18432)             0         \n",
            "                                                                 \n",
            " dense (Dense)               (None, 64)                1179712   \n",
            "                                                                 \n",
            " dense_1 (Dense)             (None, 4)                 260       \n",
            "                                                                 \n",
            "=================================================================\n",
            "Total params: 59,511,620\n",
            "Trainable params: 1,179,972\n",
            "Non-trainable params: 58,331,648\n",
            "_________________________________________________________________\n"
          ]
        },
        {
          "output_type": "stream",
          "name": "stderr",
          "text": [
            "/usr/local/lib/python3.7/dist-packages/keras/optimizers/optimizer_v2/adam.py:110: UserWarning:\n",
            "\n",
            "The `lr` argument is deprecated, use `learning_rate` instead.\n",
            "\n"
          ]
        }
      ],
      "source": [
        "model1=tf.keras.models.Sequential([\n",
        "     base_model,\n",
        "    tf.keras.layers.Dropout(0.3), # Base the ResNet152V2, we add some layers to make the result more precise\n",
        "    tf.keras.layers.Flatten(),\n",
        "    tf.keras.layers.Dense(64,activation='relu'),\n",
        "    tf.keras.layers.Dense(4,activation='softmax') # num_classes\n",
        "])\n",
        "model1.summary() # Check the model structue\n",
        "\n",
        "from keras.optimizers import Adam\n",
        "optimizer=Adam(lr=0.01, beta_1=0.5)\n",
        "model1.compile(\n",
        "    optimizer = optimizer, #'Adam'\n",
        "    loss = tf.keras.losses.CategoricalCrossentropy(),\n",
        "    metrics = METRICS)"
      ],
      "id": "UO4pRtBXNUt2"
    },
    {
      "cell_type": "code",
      "execution_count": null,
      "metadata": {
        "colab": {
          "base_uri": "https://localhost:8080/"
        },
        "id": "GtvBiCxqNwxu",
        "outputId": "571b3f67-ed9f-497f-ecab-d7362a652eb6"
      },
      "outputs": [
        {
          "output_type": "stream",
          "name": "stdout",
          "text": [
            "Epoch 1/100\n",
            "57/57 [==============================] - 407s 7s/step - loss: 2.2874 - accuracy: 0.7503 - precision: 0.7683 - recall: 0.7358 - auc: 0.8874 - val_loss: 0.9174 - val_accuracy: 0.7188 - val_precision: 0.7586 - val_recall: 0.6875 - val_auc: 0.9193\n",
            "Epoch 2/100\n",
            "57/57 [==============================] - 52s 909ms/step - loss: 0.7661 - accuracy: 0.8135 - precision: 0.8390 - recall: 0.7925 - auc: 0.9444 - val_loss: 1.3392 - val_accuracy: 0.7500 - val_precision: 0.7512 - val_recall: 0.7277 - val_auc: 0.9016\n",
            "Epoch 3/100\n",
            "57/57 [==============================] - 51s 900ms/step - loss: 0.6795 - accuracy: 0.8579 - precision: 0.8647 - recall: 0.8368 - auc: 0.9599 - val_loss: 0.6958 - val_accuracy: 0.7812 - val_precision: 0.8086 - val_recall: 0.7545 - val_auc: 0.9435\n",
            "Epoch 4/100\n",
            "57/57 [==============================] - 55s 956ms/step - loss: 0.8239 - accuracy: 0.8257 - precision: 0.8499 - recall: 0.7669 - auc: 0.9416 - val_loss: 0.9931 - val_accuracy: 0.7321 - val_precision: 0.7979 - val_recall: 0.6875 - val_auc: 0.9108\n",
            "Epoch 5/100\n",
            "57/57 [==============================] - 52s 910ms/step - loss: 0.5032 - accuracy: 0.8657 - precision: 0.8949 - recall: 0.8413 - auc: 0.9662 - val_loss: 1.0476 - val_accuracy: 0.7902 - val_precision: 0.7936 - val_recall: 0.7723 - val_auc: 0.9280\n",
            "Epoch 6/100\n",
            "57/57 [==============================] - 53s 925ms/step - loss: 0.4573 - accuracy: 0.8790 - precision: 0.9023 - recall: 0.8613 - auc: 0.9728 - val_loss: 0.4369 - val_accuracy: 0.8170 - val_precision: 0.8551 - val_recall: 0.7902 - val_auc: 0.9684\n",
            "Epoch 7/100\n",
            "57/57 [==============================] - 50s 880ms/step - loss: 0.4039 - accuracy: 0.9023 - precision: 0.9197 - recall: 0.8768 - auc: 0.9762 - val_loss: 0.8626 - val_accuracy: 0.8259 - val_precision: 0.8465 - val_recall: 0.8125 - val_auc: 0.9453\n",
            "Epoch 8/100\n",
            "57/57 [==============================] - 50s 885ms/step - loss: 0.4361 - accuracy: 0.8923 - precision: 0.9097 - recall: 0.8835 - auc: 0.9725 - val_loss: 0.7277 - val_accuracy: 0.7768 - val_precision: 0.8333 - val_recall: 0.7589 - val_auc: 0.9355\n",
            "Epoch 9/100\n",
            "57/57 [==============================] - 53s 937ms/step - loss: 0.4547 - accuracy: 0.8890 - precision: 0.9138 - recall: 0.8701 - auc: 0.9731 - val_loss: 0.7990 - val_accuracy: 0.8036 - val_precision: 0.8610 - val_recall: 0.7188 - val_auc: 0.9364\n",
            "Epoch 10/100\n",
            "57/57 [==============================] - 54s 952ms/step - loss: 0.3001 - accuracy: 0.9134 - precision: 0.9372 - recall: 0.8779 - auc: 0.9842 - val_loss: 0.5047 - val_accuracy: 0.8705 - val_precision: 0.8942 - val_recall: 0.8304 - val_auc: 0.9661\n",
            "Epoch 11/100\n",
            "57/57 [==============================] - 54s 958ms/step - loss: 0.4658 - accuracy: 0.8846 - precision: 0.9262 - recall: 0.8635 - auc: 0.9737 - val_loss: 0.8549 - val_accuracy: 0.8036 - val_precision: 0.8660 - val_recall: 0.7500 - val_auc: 0.9405\n",
            "Epoch 12/100\n",
            "57/57 [==============================] - 54s 943ms/step - loss: 0.3684 - accuracy: 0.9068 - precision: 0.9266 - recall: 0.8824 - auc: 0.9787 - val_loss: 0.6356 - val_accuracy: 0.8125 - val_precision: 0.8424 - val_recall: 0.7634 - val_auc: 0.9485\n",
            "Epoch 13/100\n",
            "57/57 [==============================] - 55s 965ms/step - loss: 0.4400 - accuracy: 0.9179 - precision: 0.9359 - recall: 0.8912 - auc: 0.9804 - val_loss: 0.5823 - val_accuracy: 0.8036 - val_precision: 0.8485 - val_recall: 0.7500 - val_auc: 0.9481\n",
            "Epoch 14/100\n",
            "57/57 [==============================] - 55s 968ms/step - loss: 0.4571 - accuracy: 0.8923 - precision: 0.9236 - recall: 0.8724 - auc: 0.9745 - val_loss: 0.5739 - val_accuracy: 0.8080 - val_precision: 0.8607 - val_recall: 0.7723 - val_auc: 0.9507\n",
            "Epoch 15/100\n",
            "57/57 [==============================] - 54s 952ms/step - loss: 0.3840 - accuracy: 0.9001 - precision: 0.9290 - recall: 0.8713 - auc: 0.9774 - val_loss: 0.5700 - val_accuracy: 0.7991 - val_precision: 0.8914 - val_recall: 0.6964 - val_auc: 0.9461\n",
            "Epoch 16/100\n",
            "57/57 [==============================] - 52s 914ms/step - loss: 0.3891 - accuracy: 0.8846 - precision: 0.9361 - recall: 0.8291 - auc: 0.9765 - val_loss: 0.5425 - val_accuracy: 0.8482 - val_precision: 0.9053 - val_recall: 0.7679 - val_auc: 0.9551\n",
            "Epoch 17/100\n",
            "57/57 [==============================] - ETA: 0s - loss: 0.3345 - accuracy: 0.9057 - precision: 0.9506 - recall: 0.8757 - auc: 0.9821"
          ]
        }
      ],
      "source": [
        "history1 = model1.fit( # Import the dataset to train the model\n",
        "    train_generator,\n",
        "    validation_data = valid_generator,\n",
        "    epochs=100) "
      ],
      "id": "GtvBiCxqNwxu"
    },
    {
      "cell_type": "code",
      "execution_count": null,
      "metadata": {
        "id": "sXgp822lfoVN"
      },
      "outputs": [],
      "source": [
        "acc_loss(history1) # Plot the image\n",
        "prediction(model1)"
      ],
      "id": "sXgp822lfoVN"
    },
    {
      "cell_type": "code",
      "execution_count": null,
      "metadata": {
        "id": "r33AhsAYnVP7"
      },
      "outputs": [],
      "source": [
        "# Evaluate the CNN Model\n",
        "import pandas as pd\n",
        "\n",
        "probabilities = model1.predict(valid_generator)\n",
        "predictions = []\n",
        "for prob in probabilities:\n",
        "    best_index = np.argmax(prob)\n",
        "    predictions.append(best_index)\n",
        "#confusion_matrix(valid_generator.classes, predictions)\n",
        "\n",
        "# Kappa coefficient is the model evaluation parameter obtained based on the calculation of confusion matrix (the better to close 1).\n",
        "def kappa_cal(matrix):\n",
        "    n = np.sum(matrix)\n",
        "    sum_po = 0\n",
        "    sum_pe = 0\n",
        "    for i in range(len(matrix[0])):\n",
        "        sum_po += matrix[i][i]\n",
        "        row = np.sum(matrix[i, :])\n",
        "        col = np.sum(matrix[:, i])\n",
        "        sum_pe += row * col\n",
        "    po = sum_po / n\n",
        "    pe = sum_pe / (n * n)\n",
        "    # print(po, pe)\n",
        "    return (po - pe) / (1 - pe)\n",
        "\n",
        "Kappa_confficient = kappa_cal(confusion_matrix(valid_generator.classes, predictions))\n",
        "print(\"Kappa Confficient: \", Kappa_confficient)\n",
        "\n",
        "# Hamming distance （the better to close 0)\n",
        "from sklearn.metrics import hamming_loss\n",
        "ham_distance = hamming_loss(valid_generator.classes, predictions)\n",
        "print(\"Hamming Distance:  \", ham_distance)\n",
        "\n",
        "from sklearn.metrics import jaccard_score\n",
        "# Jaccard coefficient (the better to close 1)\n",
        "# Because the dataset is multiclassified, it needs to change the average parameter to micro instead of binary\n",
        "# The original function is -> jaccard_similarity_score, but it is modified to jaccard_score in 2021\n",
        "jaccrd_score = jaccard_score(valid_generator.classes, predictions,pos_label = \"PAIDOFF\",average='micro')\n",
        "print(\"Jaccard_Index:     \", jaccrd_score)"
      ],
      "id": "r33AhsAYnVP7"
    },
    {
      "cell_type": "markdown",
      "metadata": {
        "id": "3I2uHB2FoxUv"
      },
      "source": [
        "## 3.2Turning the number of epochs during training"
      ],
      "id": "3I2uHB2FoxUv"
    },
    {
      "cell_type": "code",
      "execution_count": null,
      "metadata": {
        "id": "Ic06TfvpoxUx"
      },
      "outputs": [],
      "source": [
        "model2=tf.keras.models.Sequential([\n",
        "     base_model,\n",
        "    tf.keras.layers.Dropout(0.3),\n",
        "    tf.keras.layers.Flatten(),\n",
        "    tf.keras.layers.Dense(64,activation='relu'),\n",
        "    tf.keras.layers.Dense(4,activation='softmax') # num_classes\n",
        "])\n",
        "model2.summary()\n",
        "model2.compile(\n",
        "    optimizer = 'Adam',\n",
        "    loss = tf.keras.losses.CategoricalCrossentropy(),\n",
        "    metrics = METRICS)"
      ],
      "id": "Ic06TfvpoxUx"
    },
    {
      "cell_type": "code",
      "execution_count": null,
      "metadata": {
        "id": "YH2VriUcoxUx"
      },
      "outputs": [],
      "source": [
        "history2 = model2.fit(\n",
        "    train_generator,\n",
        "    validation_data = valid_generator,\n",
        "    epochs=60) # Change the number of epochs, exploring the influence"
      ],
      "id": "YH2VriUcoxUx"
    },
    {
      "cell_type": "code",
      "execution_count": null,
      "metadata": {
        "id": "2eJbOnamoxUx"
      },
      "outputs": [],
      "source": [
        "acc_loss(history2)\n",
        "prediction(model2)"
      ],
      "id": "2eJbOnamoxUx"
    },
    {
      "cell_type": "code",
      "execution_count": null,
      "metadata": {
        "id": "HzKvVEVFoxUx"
      },
      "outputs": [],
      "source": [
        "# Evaluate the CNN Model\n",
        "probabilities = model2.predict(valid_generator)\n",
        "predictions = []\n",
        "for prob in probabilities:\n",
        "    best_index = np.argmax(prob)\n",
        "    predictions.append(best_index)\n",
        "#confusion_matrix(valid_generator.classes, predictions)\n",
        "\n",
        "# Kappa coefficient is the model evaluation parameter obtained based on the calculation of confusion matrix (the better to close 1).\n",
        "def kappa_cal(matrix):\n",
        "    n = np.sum(matrix)\n",
        "    sum_po = 0\n",
        "    sum_pe = 0\n",
        "    for i in range(len(matrix[0])):\n",
        "        sum_po += matrix[i][i]\n",
        "        row = np.sum(matrix[i, :])\n",
        "        col = np.sum(matrix[:, i])\n",
        "        sum_pe += row * col\n",
        "    po = sum_po / n\n",
        "    pe = sum_pe / (n * n)\n",
        "    # print(po, pe)\n",
        "    return (po - pe) / (1 - pe)\n",
        "\n",
        "Kappa_confficient = kappa_cal(confusion_matrix(valid_generator.classes, predictions))\n",
        "print(\"Kappa Confficient: \", Kappa_confficient)\n",
        "\n",
        "# Hamming distance （the better to close 0)\n",
        "from sklearn.metrics import hamming_loss\n",
        "ham_distance = hamming_loss(valid_generator.classes, predictions)\n",
        "print(\"Hamming Distance:  \", ham_distance)\n",
        "\n",
        "from sklearn.metrics import jaccard_score\n",
        "# Jaccard coefficient (the better to close 1)\n",
        "# Because the dataset is multiclassified, it needs to change the average parameter to micro instead of binary\n",
        "# The original function is -> jaccard_similarity_score, but it is modified to jaccard_score in 2021\n",
        "jaccrd_score = jaccard_score(valid_generator.classes, predictions,pos_label = \"PAIDOFF\",average='micro')\n",
        "print(\"Jaccard_Index:     \", jaccrd_score)"
      ],
      "id": "HzKvVEVFoxUx"
    },
    {
      "cell_type": "markdown",
      "metadata": {
        "id": "uj9RxW6CpB6z"
      },
      "source": [
        "##3.3Turning the flatten layers in ResNet"
      ],
      "id": "uj9RxW6CpB6z"
    },
    {
      "cell_type": "code",
      "execution_count": null,
      "metadata": {
        "id": "w3-ZpscApB60"
      },
      "outputs": [],
      "source": [
        "model3=tf.keras.models.Sequential([\n",
        "     base_model,\n",
        "    tf.keras.layers.Dropout(0.3),\n",
        "    tf.keras.layers.Flatten(),\n",
        "    tf.keras.layers.Flatten(), # Add anothe fatten layer, exporing the influence of flatten\n",
        "    tf.keras.layers.Dense(64,activation='relu'),\n",
        "    tf.keras.layers.Dense(4,activation='softmax') # num_classes\n",
        "])\n",
        "model3.summary()\n",
        "model3.compile(\n",
        "    optimizer = 'Adam',\n",
        "    loss = tf.keras.losses.CategoricalCrossentropy(),\n",
        "    metrics = METRICS)"
      ],
      "id": "w3-ZpscApB60"
    },
    {
      "cell_type": "code",
      "execution_count": null,
      "metadata": {
        "id": "ORXJ5bmHpB60"
      },
      "outputs": [],
      "source": [
        "history3 = model3.fit(\n",
        "    train_generator,\n",
        "    validation_data = valid_generator,\n",
        "    epochs=30) "
      ],
      "id": "ORXJ5bmHpB60"
    },
    {
      "cell_type": "code",
      "execution_count": null,
      "metadata": {
        "id": "O_j_DPSwpB60"
      },
      "outputs": [],
      "source": [
        "acc_loss(history3)\n",
        "prediction(model3)"
      ],
      "id": "O_j_DPSwpB60"
    },
    {
      "cell_type": "code",
      "execution_count": null,
      "metadata": {
        "id": "p3ih3jvipB60"
      },
      "outputs": [],
      "source": [
        "# Evaluate the CNN Model\n",
        "from sklearn.metrics import confusion_matrix\n",
        "import seaborn as sns\n",
        "import numpy as np\n",
        "import pandas as pd\n",
        "\n",
        "probabilities = model3.predict(valid_generator)\n",
        "predictions = []\n",
        "for prob in probabilities:\n",
        "    best_index = np.argmax(prob)\n",
        "    predictions.append(best_index)\n",
        "#confusion_matrix(valid_generator.classes, predictions)\n",
        "\n",
        "# Kappa coefficient is the model evaluation parameter obtained based on the calculation of confusion matrix (the better to close 1).\n",
        "def kappa_cal(matrix):\n",
        "    n = np.sum(matrix)\n",
        "    sum_po = 0\n",
        "    sum_pe = 0\n",
        "    for i in range(len(matrix[0])):\n",
        "        sum_po += matrix[i][i]\n",
        "        row = np.sum(matrix[i, :])\n",
        "        col = np.sum(matrix[:, i])\n",
        "        sum_pe += row * col\n",
        "    po = sum_po / n\n",
        "    pe = sum_pe / (n * n)\n",
        "    # print(po, pe)\n",
        "    return (po - pe) / (1 - pe)\n",
        "\n",
        "Kappa_confficient = kappa_cal(confusion_matrix(valid_generator.classes, predictions))\n",
        "print(\"Kappa Confficient: \", Kappa_confficient)\n",
        "\n",
        "# Hamming distance （the better to close 0)\n",
        "from sklearn.metrics import hamming_loss\n",
        "ham_distance = hamming_loss(valid_generator.classes, predictions)\n",
        "print(\"Hamming Distance:  \", ham_distance)\n",
        "\n",
        "from sklearn.metrics import jaccard_score\n",
        "# Jaccard coefficient (the better to close 1)\n",
        "# Because the dataset is multiclassified, it needs to change the average parameter to micro instead of binary\n",
        "# The original function is -> jaccard_similarity_score, but it is modified to jaccard_score in 2021\n",
        "jaccrd_score = jaccard_score(valid_generator.classes, predictions,pos_label = \"PAIDOFF\",average='micro')\n",
        "print(\"Jaccard_Index:     \", jaccrd_score)"
      ],
      "id": "p3ih3jvipB60"
    },
    {
      "cell_type": "markdown",
      "metadata": {
        "id": "8sBh7B3AqGaE"
      },
      "source": [
        "## 3.4Turning the activation function of the dense layer"
      ],
      "id": "8sBh7B3AqGaE"
    },
    {
      "cell_type": "code",
      "execution_count": null,
      "metadata": {
        "id": "Mq5av7jwqGaS"
      },
      "outputs": [],
      "source": [
        "model4=tf.keras.models.Sequential([\n",
        "     base_model,\n",
        "    tf.keras.layers.Dropout(0.3),\n",
        "    tf.keras.layers.Flatten(),\n",
        "    tf.keras.layers.Dense(64,activation='sigmoid'), # Change the activation function to explore the influence\n",
        "    tf.keras.layers.Dense(4,activation='softmax') # num_classes\n",
        "])\n",
        "model4.summary()\n",
        "model4.compile(\n",
        "    optimizer = 'Adam',\n",
        "    loss = tf.keras.losses.CategoricalCrossentropy(),\n",
        "    metrics = METRICS)"
      ],
      "id": "Mq5av7jwqGaS"
    },
    {
      "cell_type": "code",
      "execution_count": null,
      "metadata": {
        "id": "No4dpLqUqGaT"
      },
      "outputs": [],
      "source": [
        "history4 = model4.fit(\n",
        "    train_generator,\n",
        "    validation_data = valid_generator,\n",
        "    epochs=30) "
      ],
      "id": "No4dpLqUqGaT"
    },
    {
      "cell_type": "code",
      "execution_count": null,
      "metadata": {
        "id": "fmXQmmMeqGaT"
      },
      "outputs": [],
      "source": [
        "acc_loss(history4)\n",
        "prediction(model4)"
      ],
      "id": "fmXQmmMeqGaT"
    },
    {
      "cell_type": "code",
      "execution_count": null,
      "metadata": {
        "id": "BI3ZCRcrqGaT"
      },
      "outputs": [],
      "source": [
        "# Evaluate the CNN Model\n",
        "probabilities = model4.predict(valid_generator)\n",
        "predictions = []\n",
        "for prob in probabilities:\n",
        "    best_index = np.argmax(prob)\n",
        "    predictions.append(best_index)\n",
        "#confusion_matrix(valid_generator.classes, predictions)\n",
        "\n",
        "# Kappa coefficient is the model evaluation parameter obtained based on the calculation of confusion matrix (the better to close 1).\n",
        "def kappa_cal(matrix):\n",
        "    n = np.sum(matrix)\n",
        "    sum_po = 0\n",
        "    sum_pe = 0\n",
        "    for i in range(len(matrix[0])):\n",
        "        sum_po += matrix[i][i]\n",
        "        row = np.sum(matrix[i, :])\n",
        "        col = np.sum(matrix[:, i])\n",
        "        sum_pe += row * col\n",
        "    po = sum_po / n\n",
        "    pe = sum_pe / (n * n)\n",
        "    # print(po, pe)\n",
        "    return (po - pe) / (1 - pe)\n",
        "\n",
        "Kappa_confficient = kappa_cal(confusion_matrix(valid_generator.classes, predictions))\n",
        "print(\"Kappa Confficient: \", Kappa_confficient)\n",
        "\n",
        "# Hamming distance （the better to close 0)\n",
        "from sklearn.metrics import hamming_loss\n",
        "ham_distance = hamming_loss(valid_generator.classes, predictions)\n",
        "print(\"Hamming Distance:  \", ham_distance)\n",
        "\n",
        "from sklearn.metrics import jaccard_score\n",
        "# Jaccard coefficient (the better to close 1)\n",
        "# Because the dataset is multiclassified, it needs to change the average parameter to micro instead of binary\n",
        "# The original function is -> jaccard_similarity_score, but it is modified to jaccard_score in 2021\n",
        "jaccrd_score = jaccard_score(valid_generator.classes, predictions,pos_label = \"PAIDOFF\",average='micro')\n",
        "print(\"Jaccard_Index:     \", jaccrd_score)"
      ],
      "id": "BI3ZCRcrqGaT"
    },
    {
      "cell_type": "markdown",
      "metadata": {
        "id": "a6Jz6SieVAwV"
      },
      "source": [
        "## 3.5Turning the optimiser of model"
      ],
      "id": "a6Jz6SieVAwV"
    },
    {
      "cell_type": "code",
      "execution_count": null,
      "metadata": {
        "id": "JcM0NSKaVAwW"
      },
      "outputs": [],
      "source": [
        "model5=tf.keras.models.Sequential([\n",
        "     base_model,\n",
        "    tf.keras.layers.Dropout(0.3), # Base the ResNet152V2, we add some layers to make the result more precise\n",
        "    tf.keras.layers.Flatten(),\n",
        "    tf.keras.layers.Dense(64,activation='relu'),\n",
        "    tf.keras.layers.Dense(4,activation='softmax') # num_classes\n",
        "])\n",
        "model5.summary() # Check the model structue\n",
        "model5.compile(\n",
        "    optimizer = 'sgd', # Change the optimiser\n",
        "    loss = tf.keras.losses.CategoricalCrossentropy(),\n",
        "    metrics = METRICS)"
      ],
      "id": "JcM0NSKaVAwW"
    },
    {
      "cell_type": "code",
      "execution_count": null,
      "metadata": {
        "id": "lwhHiUHPVAwX"
      },
      "outputs": [],
      "source": [
        "history5 = model5.fit( # Import the dataset to train the model\n",
        "    train_generator,\n",
        "    validation_data = valid_generator,\n",
        "    epochs=30) "
      ],
      "id": "lwhHiUHPVAwX"
    },
    {
      "cell_type": "code",
      "execution_count": null,
      "metadata": {
        "id": "-bP850RgVAwX"
      },
      "outputs": [],
      "source": [
        "acc_loss(history5) # Plot the image\n",
        "prediction(model5)"
      ],
      "id": "-bP850RgVAwX"
    },
    {
      "cell_type": "code",
      "execution_count": null,
      "metadata": {
        "id": "dcCZVLTMVAwX"
      },
      "outputs": [],
      "source": [
        "# Evaluate the CNN Model\n",
        "probabilities = model5.predict(valid_generator)\n",
        "predictions = []\n",
        "for prob in probabilities:\n",
        "    best_index = np.argmax(prob)\n",
        "    predictions.append(best_index)\n",
        "#confusion_matrix(valid_generator.classes, predictions)\n",
        "\n",
        "# Kappa coefficient is the model evaluation parameter obtained based on the calculation of confusion matrix (the better to close 1).\n",
        "def kappa_cal(matrix):\n",
        "    n = np.sum(matrix)\n",
        "    sum_po = 0\n",
        "    sum_pe = 0\n",
        "    for i in range(len(matrix[0])):\n",
        "        sum_po += matrix[i][i]\n",
        "        row = np.sum(matrix[i, :])\n",
        "        col = np.sum(matrix[:, i])\n",
        "        sum_pe += row * col\n",
        "    po = sum_po / n\n",
        "    pe = sum_pe / (n * n)\n",
        "    # print(po, pe)\n",
        "    return (po - pe) / (1 - pe)\n",
        "\n",
        "Kappa_confficient = kappa_cal(confusion_matrix(valid_generator.classes, predictions))\n",
        "print(\"Kappa Confficient: \", Kappa_confficient)\n",
        "\n",
        "# Hamming distance （the better to close 0)\n",
        "from sklearn.metrics import hamming_loss\n",
        "ham_distance = hamming_loss(valid_generator.classes, predictions)\n",
        "print(\"Hamming Distance:  \", ham_distance)\n",
        "\n",
        "from sklearn.metrics import jaccard_score\n",
        "# Jaccard coefficient (the better to close 1)\n",
        "# Because the dataset is multiclassified, it needs to change the average parameter to micro instead of binary\n",
        "# The original function is -> jaccard_similarity_score, but it is modified to jaccard_score in 2021\n",
        "jaccrd_score = jaccard_score(valid_generator.classes, predictions,pos_label = \"PAIDOFF\",average='micro')\n",
        "print(\"Jaccard_Index:     \", jaccrd_score)"
      ],
      "id": "dcCZVLTMVAwX"
    },
    {
      "cell_type": "markdown",
      "metadata": {
        "id": "zq-YecN7ezCX"
      },
      "source": [
        "## 3.6Turning the Batch Normalisation layer of model"
      ],
      "id": "zq-YecN7ezCX"
    },
    {
      "cell_type": "code",
      "execution_count": null,
      "metadata": {
        "id": "O0Q82j10ezCj"
      },
      "outputs": [],
      "source": [
        "model6=tf.keras.models.Sequential([\n",
        "     base_model,\n",
        "    tf.keras.layers.Dropout(0.3), # Base the ResNet152V2, we add some layers to make the result more precise\n",
        "    tf.keras.layers.Flatten(),\n",
        "    tf.keras.layers.BatchNormalization(),\n",
        "    tf.keras.layers.Dense(64,activation='relu'),\n",
        "    tf.keras.layers.Dense(4,activation='softmax') # num_classes\n",
        "])\n",
        "model6.summary() # Check the model structue\n",
        "model6.compile(\n",
        "    optimizer = 'Adam',\n",
        "    loss = tf.keras.losses.CategoricalCrossentropy(),\n",
        "    metrics = METRICS)"
      ],
      "id": "O0Q82j10ezCj"
    },
    {
      "cell_type": "code",
      "execution_count": null,
      "metadata": {
        "id": "fhDcfSeOezCl"
      },
      "outputs": [],
      "source": [
        "history6 = model6.fit( # Import the dataset to train the model\n",
        "    train_generator,\n",
        "    validation_data = valid_generator,\n",
        "    epochs=30) "
      ],
      "id": "fhDcfSeOezCl"
    },
    {
      "cell_type": "code",
      "execution_count": null,
      "metadata": {
        "id": "GqMfwhUVezCm"
      },
      "outputs": [],
      "source": [
        "acc_loss(history6) # Plot the image\n",
        "prediction(model6)"
      ],
      "id": "GqMfwhUVezCm"
    },
    {
      "cell_type": "code",
      "execution_count": null,
      "metadata": {
        "id": "tAYutOeeezCm"
      },
      "outputs": [],
      "source": [
        "# Evaluate the CNN Model\n",
        "\n",
        "probabilities = model6.predict(valid_generator)\n",
        "predictions = []\n",
        "for prob in probabilities:\n",
        "    best_index = np.argmax(prob)\n",
        "    predictions.append(best_index)\n",
        "#confusion_matrix(valid_generator.classes, predictions)\n",
        "\n",
        "# Kappa coefficient is the model evaluation parameter obtained based on the calculation of confusion matrix (the better to close 1).\n",
        "def kappa_cal(matrix):\n",
        "    n = np.sum(matrix)\n",
        "    sum_po = 0\n",
        "    sum_pe = 0\n",
        "    for i in range(len(matrix[0])):\n",
        "        sum_po += matrix[i][i]\n",
        "        row = np.sum(matrix[i, :])\n",
        "        col = np.sum(matrix[:, i])\n",
        "        sum_pe += row * col\n",
        "    po = sum_po / n\n",
        "    pe = sum_pe / (n * n)\n",
        "    # print(po, pe)\n",
        "    return (po - pe) / (1 - pe)\n",
        "\n",
        "Kappa_confficient = kappa_cal(confusion_matrix(valid_generator.classes, predictions))\n",
        "print(\"Kappa Confficient: \", Kappa_confficient)\n",
        "\n",
        "# Hamming distance （the better to close 0)\n",
        "from sklearn.metrics import hamming_loss\n",
        "ham_distance = hamming_loss(valid_generator.classes, predictions)\n",
        "print(\"Hamming Distance:  \", ham_distance)\n",
        "\n",
        "from sklearn.metrics import jaccard_score\n",
        "# Jaccard coefficient (the better to close 1)\n",
        "# Because the dataset is multiclassified, it needs to change the average parameter to micro instead of binary\n",
        "# The original function is -> jaccard_similarity_score, but it is modified to jaccard_score in 2021\n",
        "jaccrd_score = jaccard_score(valid_generator.classes, predictions,pos_label = \"PAIDOFF\",average='micro')\n",
        "print(\"Jaccard_Index:     \", jaccrd_score)"
      ],
      "id": "tAYutOeeezCm"
    },
    {
      "cell_type": "markdown",
      "source": [
        "# 4.Cross-folding verification"
      ],
      "metadata": {
        "id": "Zv3zAh-u6Zxp"
      },
      "id": "Zv3zAh-u6Zxp"
    },
    {
      "cell_type": "code",
      "source": [
        "from keras_preprocessing.image import ImageDataGenerator\n",
        "datagen = ImageDataGenerator( # Pre-process the image, including width,height,size...\n",
        "    rescale = 1.0/255.,# Scale the dimensions\n",
        "    rotation_range=90,# The image is rotated randomly by a certain angle, and the maximum rotation angle is the set value\n",
        "    width_shift_range=0.2,# The image pans horizontally randomly, and the maximum pan value is the set value. If the value is less than 1 float value, it can be considered to be proportional translation, if greater than 1, the translation is pixels; If the value is integer, the translation is also pixels; Assuming a pixel of 2.0, the movement range is between [-1,1].\n",
        "    height_shift_range=0.2,# Image randomly pans vertically, same as above\n",
        "    shear_range=0.2,# Images are randomly trimmed\n",
        "    zoom_range=0.3,# Images are randomly zoomed\n",
        "    validation_split=0.5, # Optional float between 0 and 1, fraction of data to reserve for validation.\n",
        "    vertical_flip=True)# The image is randomly flipped vertically\n",
        "train_generator = datagen.flow_from_directory( # Divide the dataset into tarin and valid\n",
        "    dataset,\n",
        "    batch_size=16, # Size of the batches of data. Default: 32. If None, the data will not be batched (the dataset will yield individual samples).\n",
        "    shuffle=True,\n",
        "    class_mode='categorical',\n",
        "    subset='training', # Subset of the data to return. One of \"training\", \"validation\" or \"both\". Only used if validation_split is set. When subset=\"both\", the utility returns a tuple of two datasets (the training and validation datasets respectively).\n",
        "    target_size=(img_height,img_width))\n",
        "valid_generator = datagen.flow_from_directory(\n",
        "    dataset, \n",
        "    batch_size=16,\n",
        "    shuffle=True,\n",
        "    class_mode='categorical',\n",
        "    subset='validation',\n",
        "    target_size=(img_height,img_width))\n",
        "test_generator = datagen.flow_from_directory(\n",
        "    dataset, \n",
        "    batch_size=16,\n",
        "    shuffle=True,\n",
        "    class_mode='categorical',\n",
        "    subset='validation',\n",
        "    target_size=(img_height,img_width))\n",
        "\n",
        "model1.summary()\n",
        "\n",
        "model1.compile(\n",
        "    optimizer = 'Adam',\n",
        "    loss = tf.keras.losses.CategoricalCrossentropy(),\n",
        "    metrics = METRICS)\n",
        "\n",
        "history7_1 = model1.fit( # Import the dataset to train the model\n",
        "    train_generator,\n",
        "    validation_data = valid_generator,\n",
        "    epochs=30) \n",
        "\n",
        "acc_loss(history7_1) # Plot the image\n",
        "\n",
        "model1.compile(\n",
        "    optimizer = 'Adam',\n",
        "    loss = tf.keras.losses.CategoricalCrossentropy(),\n",
        "    metrics = METRICS)\n",
        "\n",
        "history7_2 = model1.fit( # Import the dataset to train the model\n",
        "    valid_generator,\n",
        "    validation_data = train_generator,\n",
        "    epochs=30) \n",
        "\n",
        "acc_loss(history7_2) # Plot the image\n"
      ],
      "metadata": {
        "id": "ygZ-YFb76hkz"
      },
      "id": "ygZ-YFb76hkz",
      "execution_count": null,
      "outputs": []
    },
    {
      "cell_type": "markdown",
      "source": [
        "# 5.Modify the overfit"
      ],
      "metadata": {
        "id": "LqOmnHDrMf7Z"
      },
      "id": "LqOmnHDrMf7Z"
    },
    {
      "cell_type": "markdown",
      "source": [
        "## 5.1 Learning rate "
      ],
      "metadata": {
        "id": "q6QW4e6qNSIO"
      },
      "id": "q6QW4e6qNSIO"
    },
    {
      "cell_type": "code",
      "source": [
        "model1.summary() # Check the model structue\n",
        "\n",
        "from keras.optimizers import Adam\n",
        "optimizer=Adam(lr=0.01, beta_1=0.5)\n",
        "model1.compile(\n",
        "    optimizer = optimizer, #'Adam'\n",
        "    loss = tf.keras.losses.CategoricalCrossentropy(),\n",
        "    metrics = METRICS)"
      ],
      "metadata": {
        "id": "yaM40hhJM0kH"
      },
      "id": "yaM40hhJM0kH",
      "execution_count": null,
      "outputs": []
    },
    {
      "cell_type": "code",
      "source": [
        "history1 = model1.fit( # Import the dataset to train the model\n",
        "    train_generator,\n",
        "    validation_data = valid_generator,\n",
        "    epochs=100) \n",
        "acc_loss(history1) # Plot the image\n",
        "prediction(model1)"
      ],
      "metadata": {
        "id": "cVS40oOBNGJ2"
      },
      "id": "cVS40oOBNGJ2",
      "execution_count": null,
      "outputs": []
    },
    {
      "cell_type": "markdown",
      "source": [
        "## 5.2 Regularization\n"
      ],
      "metadata": {
        "id": "TUkvBRYaNxDZ"
      },
      "id": "TUkvBRYaNxDZ"
    },
    {
      "cell_type": "code",
      "source": [
        "model1=tf.keras.models.Sequential([\n",
        "     base_model,\n",
        "    tf.keras.layers.Dropout(0.3), # Base the ResNet152V2, we add some layers to make the result more precise\n",
        "    tf.keras.layers.Flatten(),\n",
        "    Dense(256, kernel_regularizer=keras.regularizers.l1(0.01)),\n",
        "    '''\n",
        "    Dense(256, kernel_regularizer=keras.regularizers.l1(0.01))\n",
        "    Dense(256, kernel_regularizer=keras.regularizers.l2(0.01))\n",
        "    Dense(256, kernel_regularizer=keras.regularizers.l1_l2(0.01))\n",
        "\n",
        "    '''\n",
        "    tf.keras.layers.Dense(64,activation='relu'),\n",
        "    tf.keras.layers.Dense(4,activation='softmax') # num_classes\n",
        "])\n",
        "\n",
        "model1.summary() # Check the model structue\n",
        "\n",
        "from keras.optimizers import Adam\n",
        "\n",
        "model1.compile(\n",
        "    optimizer = 'Adam', \n",
        "    loss = tf.keras.losses.CategoricalCrossentropy(),\n",
        "    metrics = METRICS)"
      ],
      "metadata": {
        "id": "c3rYJ02vN6jl"
      },
      "id": "c3rYJ02vN6jl",
      "execution_count": null,
      "outputs": []
    },
    {
      "cell_type": "code",
      "source": [
        "history1 = model1.fit( # Import the dataset to train the model\n",
        "    train_generator,\n",
        "    validation_data = valid_generator,\n",
        "    epochs=100) \n",
        "acc_loss(history1) # Plot the image\n",
        "prediction(model1)"
      ],
      "metadata": {
        "id": "MhFffNTPN97I"
      },
      "id": "MhFffNTPN97I",
      "execution_count": null,
      "outputs": []
    }
  ],
  "metadata": {
    "colab": {
      "collapsed_sections": [
        "a6Jz6SieVAwV"
      ],
      "machine_shape": "hm",
      "provenance": []
    },
    "gpuClass": "premium",
    "kernelspec": {
      "display_name": "Python 3",
      "language": "python",
      "name": "python3"
    },
    "language_info": {
      "codemirror_mode": {
        "name": "ipython",
        "version": 3
      },
      "file_extension": ".py",
      "mimetype": "text/x-python",
      "name": "python",
      "nbconvert_exporter": "python",
      "pygments_lexer": "ipython3",
      "version": "3.7.12"
    },
    "papermill": {
      "default_parameters": {},
      "duration": 223.887359,
      "end_time": "2022-04-05T17:04:52.841765",
      "environment_variables": {},
      "exception": null,
      "input_path": "__notebook__.ipynb",
      "output_path": "__notebook__.ipynb",
      "parameters": {},
      "start_time": "2022-04-05T17:01:08.954406",
      "version": "2.3.3"
    }
  },
  "nbformat": 4,
  "nbformat_minor": 5
}